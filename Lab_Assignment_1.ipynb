{
 "cells": [
  {
   "cell_type": "markdown",
   "id": "c8a19319-d00c-418d-9c41-bc8dac9ccf9e",
   "metadata": {},
   "source": [
    "# Step One"
   ]
  },
  {
   "cell_type": "markdown",
   "id": "c8f9ef1d-b62e-470b-a43d-c06b1a1ebddc",
   "metadata": {},
   "source": [
    "## Why did I picked license GNUGPLv3.0. \n",
    "\n",
    "I selected GNUGLP v3.0 for the following reasons. First, this license allows for both commercial and non-commercial use. In addition, it provides permissions for distribution and modification. I specifically selected GNUGLP v3 because it states that the modifications must be released under the same license or under a similar/related license. I interpreted this as meaning that this license does not permit anyone to modify and/or distribute this code with a more restrictive license. \n",
    "\n",
    "The reason why you would want to select a license is because the failure todo so results in the default US copyright laws to apply, meaning that I would retain all of the rights to my code. Therefore, no one would be able to use my code. If I wanted to promote open source and sharing with data and code, the failure to select a license would be counterintuitive. Hence, selecting a license such as GNUGPL or MIT helps promote code and data sharing. \n",
    "\n",
    "## Why I know my .ENV will not be pushed to GitHub. \n",
    "\n",
    "Because on my .gitignore it says: \n",
    "\n",
    "Environments <p> \n",
    ".env\n",
    ".venv\n",
    "env/\n",
    "venv/\n",
    "ENV/\n",
    "env.bak/\n",
    "venv.bak/"
   ]
  },
  {
   "cell_type": "markdown",
   "id": "c8b944c9-18ac-415b-a271-f28d144dc402",
   "metadata": {},
   "source": [
    "**Github Link**"
   ]
  },
  {
   "cell_type": "markdown",
   "id": "c6e62117-4134-4fb2-ab6f-0d969898fca2",
   "metadata": {},
   "source": [
    "[Github](https://github.com/lizzy-miller/DS6600_lab1)"
   ]
  },
  {
   "cell_type": "markdown",
   "id": "4fc942e0-945a-4855-bd33-e3f89c86d582",
   "metadata": {},
   "source": [
    "# Step Two"
   ]
  },
  {
   "cell_type": "markdown",
   "id": "ce72e4a3-c7c8-49a4-a0c0-cbce61b0b652",
   "metadata": {},
   "source": [
    "## Pipfile Ingredients"
   ]
  },
  {
   "cell_type": "markdown",
   "id": "bf4a5e33-d629-4a80-852b-129c9b2ec9ae",
   "metadata": {},
   "source": [
    "[[source]] <p>\n",
    "url = \"https://pypi.org/simple\" <p>\n",
    "verify_ssl = true <p>\n",
    "name = \"pypi\" <p>\n",
    "\n",
    "[packages] <p>\n",
    "jupyterlab = \"==4.0.5\" <p>\n",
    "numpy = \"==1.25.2\" <p>\n",
    "pandas = \"==2.0.3\" <p>\n",
    "matplotlib = \"==3.7.2\" <p>\n",
    "requests = \"==2.31.0\" <p>\n",
    "ipykernel = \"*\" <p>\n",
    "jupyter = \"*\" <p>\n",
    "lab = \"*\" <p>\n",
    "\n",
    "[dev-packages] <p>\n",
    "\n",
    "[requires] <p>\n",
    "python_version = \"3.11.4\" <p>"
   ]
  },
  {
   "cell_type": "code",
   "execution_count": 1,
   "id": "a1ca709e-2f2b-43d9-b7c9-77fbf3f3454a",
   "metadata": {},
   "outputs": [
    {
     "name": "stdout",
     "output_type": "stream",
     "text": [
      "Python 3.11.4\n"
     ]
    }
   ],
   "source": [
    "!python --version"
   ]
  },
  {
   "cell_type": "code",
   "execution_count": 2,
   "id": "60c88df4-5d50-43b1-8217-d8e7db674213",
   "metadata": {},
   "outputs": [],
   "source": [
    "import numpy"
   ]
  },
  {
   "cell_type": "code",
   "execution_count": 3,
   "id": "0745eec8-8bb2-4ce5-a87d-ea21639393d0",
   "metadata": {},
   "outputs": [],
   "source": [
    "import pandas"
   ]
  },
  {
   "cell_type": "code",
   "execution_count": 4,
   "id": "748b499a-22ec-4692-92a3-bf8f45a89d42",
   "metadata": {},
   "outputs": [],
   "source": [
    "import matplotlib"
   ]
  },
  {
   "cell_type": "code",
   "execution_count": 5,
   "id": "1dbef1f7-9080-4cc5-abad-649d4dcb6d43",
   "metadata": {},
   "outputs": [],
   "source": [
    "import requests"
   ]
  },
  {
   "cell_type": "code",
   "execution_count": 6,
   "id": "dcf47ed0-1d7e-4675-a4d8-f786ada4ae06",
   "metadata": {},
   "outputs": [
    {
     "ename": "ModuleNotFoundError",
     "evalue": "No module named 'sklearn'",
     "output_type": "error",
     "traceback": [
      "\u001b[0;31m---------------------------------------------------------------------------\u001b[0m",
      "\u001b[0;31mModuleNotFoundError\u001b[0m                       Traceback (most recent call last)",
      "Cell \u001b[0;32mIn[6], line 1\u001b[0m\n\u001b[0;32m----> 1\u001b[0m \u001b[38;5;28;01mimport\u001b[39;00m \u001b[38;5;21;01msklearn\u001b[39;00m\n",
      "\u001b[0;31mModuleNotFoundError\u001b[0m: No module named 'sklearn'"
     ]
    }
   ],
   "source": [
    "import sklearn"
   ]
  },
  {
   "cell_type": "markdown",
   "id": "d79eb83c-6f44-43a8-be2a-a46f49899d58",
   "metadata": {},
   "source": [
    "# Step Three"
   ]
  },
  {
   "cell_type": "markdown",
   "id": "5f4087bc-3ff2-406e-88c6-d2f29a617846",
   "metadata": {},
   "source": [
    "## Describe, in words, why the following is true. \n",
    "\n",
    "1. **Virtual Machine** because the Meals on Wheels needs a method in which every chapter can utilize the same portal and app created by the Charlottesville chapter. In addition, they need a large amount of storage space due to the size of their database. Although a virtual machine is difficult to set up, Meals on Wheels has help from some UVA computer science students and WillowTree to guide them towards success. A global environment would be completely insufficient to complete this task as the default system on each computer is not able to access the Charlottesville system. Since we need to specify the specific software being used by Charlottessville, a virtual environment would also be insufficient. A container may be capable to assist in this task; since there is a large amount of data being processed, however, this may be too big to fit on any individual laptop or computer. <p>\n",
    "2. **Global Environment** because Legal Aid Justice Center is only asking for a report, not requiring any code or data to be shared. Hence, a global environment is sufficient to complete this task. Anything above a global environment, such as a container, virtual environment, or virtual machine, would be overkill because the specific program, the system does not need to be specified nor does this project require large memory space. <p> \n",
    "3. **Container** because not only do the software packages (e.g., Python) have to be specified but also the software system itself needs to be specified (e.g., Linux). These tasks would not be capable of being completed through a global environment nor virtual environment. There does not seem to be a need to use a virtual machine because it is expensive and there does not appear to be the need for additional storage space. <p>\n",
    "4. **Virtual Environment** because we only need a place in which to run different versions of python, such as Python 3 and Python 4. Thus, you can practice Python 4 in your virtual environment without worrying about it affecting your other projects. In fact, you could move your other projects running on Python 3 into your virtual environment in order to preserve them. A global environment is insufficient to complete this task because you cannot run multiple python versions on your computer at the same time. The specific software package does not need to be specified; hence a container is not required. In addition, a virtual machine would be overkill and expensive for you swedish-python learning expedition. "
   ]
  },
  {
   "cell_type": "markdown",
   "id": "09cfc203-1fc2-49db-8962-7b23fccbb0dd",
   "metadata": {},
   "source": [
    "# Step Four"
   ]
  },
  {
   "cell_type": "markdown",
   "id": "ac1ea7ab-be1d-4cf0-b81f-34bd240e9792",
   "metadata": {},
   "source": [
    "**Docker File** "
   ]
  },
  {
   "cell_type": "markdown",
   "id": "d8dbfc5f-2807-4ff0-988d-a70663f4b4c5",
   "metadata": {},
   "source": [
    "\\# syntax=docker/dockerfile:1\n",
    "\n",
    "FROM ubuntu:latest \n",
    "\n",
    "\\# <called inside the container> \\<called outside the container>\n",
    "\n",
    "COPY requirements.txt requirements.txt\n",
    "\n",
    "RUN apt-get update\n",
    "\n",
    "RUN apt-get install -y python3\n",
    "\n",
    "WORKDIR /DS600_lab1\n",
    "\n",
    "EXPOSE 8000\n",
    "\n",
    "CMD [\"python3\"]"
   ]
  },
  {
   "cell_type": "markdown",
   "id": "383173c1-2d27-44ce-b91d-16e2e26dee36",
   "metadata": {},
   "source": [
    "**Building a Dockerimage**"
   ]
  },
  {
   "cell_type": "markdown",
   "id": "854bb97c-9c28-4d17-bd13-98e41889ded6",
   "metadata": {},
   "source": [
    "lizzy@MacBook-Air DS6600_lab1 % docker build . -t ds6600_lab1 <p>    \n",
    "[+] Building 2.8s (14/14) FINISHED                      docker:desktop-linux <p>\n",
    " => [internal] load build definition from Dockerfile                    0.0s <p>\n",
    " => => transferring dockerfile: 628B                                    0.0s <p>\n",
    " => [internal] load .dockerignore                                       0.0s <p>\n",
    " => => transferring context: 2B                                         0.0s <p>\n",
    " => resolve image config for docker.io/docker/dockerfile:1              1.6s <p>\n",
    " => [auth] docker/dockerfile:pull token for registry-1.docker.io        0.0s <p>\n",
    " => CACHED docker-image://docker.io/docker/dockerfile:1@sha256:ac85f38  0.0s <p>\n",
    " => [internal] load metadata for docker.io/library/ubuntu:latest        1.1s <p>\n",
    " => [auth] library/ubuntu:pull token for registry-1.docker.io           0.0s <p>\n",
    " => [internal] load build context                                       0.0s <p> \n",
    " => => transferring context: 370B                                       0.0s <p>\n",
    " => [1/5] FROM docker.io/library/ubuntu:latest@sha256:aabed3296a3d45ce  0.0s <p>\n",
    " => CACHED [2/5] COPY requirements.txt requirements.txt                 0.0s <p>\n",
    " => CACHED [3/5] RUN apt-get update                                     0.0s <p>\n",
    " => CACHED [4/5] RUN apt-get install -y python3                         0.0s <p>\n",
    " => CACHED [5/5] WORKDIR /DS600_lab1                                    0.0s <p>\n",
    " => exporting to image                                                  0.0s <p>\n",
    " => => exporting layers                                                 0.0s <p>\n",
    " => => writing image sha256:1535360d0d942fbaa26e82ac5848c9f2154c32fb9b  0.0s <p>\n",
    " => => naming to docker.io/library/ds6600_lab1                          0.0s <p>\n"
   ]
  },
  {
   "cell_type": "markdown",
   "id": "aab3775e-5f63-4a2a-86d1-6fee92a38ae2",
   "metadata": {},
   "source": [
    "**Output from Terminal** "
   ]
  },
  {
   "cell_type": "markdown",
   "id": "f301fe12-3f6d-4cbd-8183-7ac93e39808d",
   "metadata": {},
   "source": [
    "lizzy@MacBook-Air DS6600_lab1 % docker run -it ds6600_lab1  <p> \n",
    "Python 3.10.12 (main, Jun 11 2023, 05:26:28) [GCC 11.4.0] on linux <p>\n",
    "Type \"help\", \"copyright\", \"credits\" or \"license\" for more information. <p>\n",
    ">>> \n"
   ]
  },
  {
   "cell_type": "markdown",
   "id": "e2dac7fd-6bea-4120-be72-6d25c9c92cf0",
   "metadata": {},
   "source": [
    "# Step Six"
   ]
  },
  {
   "cell_type": "markdown",
   "id": "238c00e3-c3c3-43f4-9fce-32b4f983584c",
   "metadata": {},
   "source": [
    " It is written in the Book of Kos:\n",
    "                          \n",
    "                              After the Creation, the cruel god Moloch rebelled\n",
    "                              against the authority of Marduk the Creator.\n",
    "                              Moloch stole from Marduk the most powerful of all\n",
    "                              the artifacts of the gods, the Amulet of Yendor,\n",
    "                              and he hid it in the dark cavities of Gehennom, the\n",
    "                              Under World, where he now lurks, and bides his time.\n",
    "                          \n",
    "                          Your god Kos seeks to possess the Amulet, and with it\n",
    "                          to gain deserved ascendance over the other gods.\n",
    "                          \n",
    "                          You, a newly trained Footpad, have been heralded\n",
    "                          from birth as the instrument of Kos.  You are destined\n",
    "                          to recover the Amulet for your deity, or die in the\n",
    "                          attempt.  Your hour of destiny has come.  For the sake\n",
    "                          of us all:  Go bravely with Kos!\n",
    "                          --More--\n"
   ]
  },
  {
   "cell_type": "code",
   "execution_count": null,
   "id": "d7882416-4ced-4b23-b666-da7552c7d5f6",
   "metadata": {},
   "outputs": [],
   "source": []
  },
  {
   "cell_type": "code",
   "execution_count": null,
   "id": "bdca267d-0953-4d80-968b-a014cc730be6",
   "metadata": {},
   "outputs": [],
   "source": []
  }
 ],
 "metadata": {
  "kernelspec": {
   "display_name": "Python 3 (ipykernel)",
   "language": "python",
   "name": "python3"
  },
  "language_info": {
   "codemirror_mode": {
    "name": "ipython",
    "version": 3
   },
   "file_extension": ".py",
   "mimetype": "text/x-python",
   "name": "python",
   "nbconvert_exporter": "python",
   "pygments_lexer": "ipython3",
   "version": "3.11.4"
  }
 },
 "nbformat": 4,
 "nbformat_minor": 5
}
